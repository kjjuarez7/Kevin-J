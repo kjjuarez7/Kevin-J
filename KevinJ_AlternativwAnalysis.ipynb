{
  "nbformat": 4,
  "nbformat_minor": 0,
  "metadata": {
    "colab": {
      "name": "KevinJ_AlternativwAnalysis.ipynb",
      "provenance": [],
      "authorship_tag": "ABX9TyNS99NESeWdsdvaJZ2tUjoa",
      "include_colab_link": true
    },
    "kernelspec": {
      "name": "python3",
      "display_name": "Python 3"
    },
    "language_info": {
      "name": "python"
    }
  },
  "cells": [
    {
      "cell_type": "markdown",
      "metadata": {
        "id": "view-in-github",
        "colab_type": "text"
      },
      "source": [
        "<a href=\"https://colab.research.google.com/github/kjjuarez7/Kevin-J/blob/main/KevinJ_AlternativwAnalysis.ipynb\" target=\"_parent\"><img src=\"https://colab.research.google.com/assets/colab-badge.svg\" alt=\"Open In Colab\"/></a>"
      ]
    },
    {
      "cell_type": "code",
      "metadata": {
        "id": "xReWHkbtBM1v",
        "outputId": "a04fb697-facf-4a92-8824-87d8c5b81d38",
        "colab": {
          "base_uri": "https://localhost:8080/"
        }
      },
      "source": [
        "import pandas as pd\n",
        "\n",
        "#create a datafram for our AA \n",
        "\n",
        "AA = pd.DataFrame(columns=['criteria','weight','ratingA','ratingB','scoreA','scoreB'])\n",
        "print(AA)\n",
        "\n"
      ],
      "execution_count": null,
      "outputs": [
        {
          "output_type": "stream",
          "name": "stdout",
          "text": [
            "Empty DataFrame\n",
            "Columns: [criteria, weight, ratingA, ratingB, scoreA, scoreB]\n",
            "Index: []\n"
          ]
        }
      ]
    },
    {
      "cell_type": "code",
      "source": [
        "#First step: Identifit a list of criteria\n",
        "AA['criteria']=['risk','ROI','customerSatisfaction','feasibility','strtegicAlignment']\n",
        "print(AA)"
      ],
      "metadata": {
        "colab": {
          "base_uri": "https://localhost:8080/"
        },
        "id": "3D8H1G6F_qZS",
        "outputId": "0b49b4b7-e029-42e2-ece1-00183da02085"
      },
      "execution_count": null,
      "outputs": [
        {
          "output_type": "stream",
          "name": "stdout",
          "text": [
            "               criteria weight ratingA ratingB scoreA scoreB\n",
            "0                  risk    NaN     NaN     NaN    NaN    NaN\n",
            "1                   ROI    NaN     NaN     NaN    NaN    NaN\n",
            "2  customerSatisfaction    NaN     NaN     NaN    NaN    NaN\n",
            "3           feasibility    NaN     NaN     NaN    NaN    NaN\n",
            "4     strtegicAlignment    NaN     NaN     NaN    NaN    NaN\n"
          ]
        }
      ]
    },
    {
      "cell_type": "code",
      "source": [
        "#second step: identify weights\n",
        "#weights show relative importance of each criterion\n",
        "#they must add uo to 1(or 100 if you use the percentages)\n",
        "AA['weight']=[0.1,0.15,0.3,.15,.3]\n",
        "print(AA)"
      ],
      "metadata": {
        "colab": {
          "base_uri": "https://localhost:8080/"
        },
        "id": "lcxl0SZjBCWG",
        "outputId": "d1bc1079-2cdd-4a14-e77c-9d9c65d8ce21"
      },
      "execution_count": null,
      "outputs": [
        {
          "output_type": "stream",
          "name": "stdout",
          "text": [
            "  criteria  weight ratingA ratingB scoreA scoreB\n",
            "0      NaN    0.10     NaN     NaN    NaN    NaN\n",
            "1      NaN    0.15     NaN     NaN    NaN    NaN\n",
            "2      NaN    0.30     NaN     NaN    NaN    NaN\n",
            "3      NaN    0.15     NaN     NaN    NaN    NaN\n",
            "4      NaN    0.30     NaN     NaN    NaN    NaN\n"
          ]
        }
      ]
    },
    {
      "cell_type": "code",
      "source": [
        "#step 3: rate each alternative across all criteria \n",
        "# choose a scale: 1-5 or 1-7 or 1-10 \n",
        "# higher number: aN alternative is doing better regarding a given criterion\n",
        "AA['ratingA']=[4,1,2,1,5]\n",
        "AA['ratingB']=[3,4,2,3,2]\n",
        "\n",
        "#step 4: calculate partial scores by multiplying weight * rating \n",
        "for index, row in AA.iterrows():\n",
        "  AA['scoreA'][index]=row['ratingA']*row['weight']\n",
        "  AA['scoreB'][index]=row['ratingA']*row['weight']\n",
        "\n",
        "print(AA)\n",
        "\n"
      ],
      "metadata": {
        "colab": {
          "base_uri": "https://localhost:8080/"
        },
        "id": "koUcgaX4B39i",
        "outputId": "7ec6b7f2-1451-45f6-f461-5d6807cf93cc"
      },
      "execution_count": null,
      "outputs": [
        {
          "output_type": "stream",
          "name": "stdout",
          "text": [
            "  criteria  weight  ratingA  ratingB scoreA scoreB\n",
            "0      NaN    0.10        4        3    0.4    0.4\n",
            "1      NaN    0.15        1        4   0.15   0.15\n",
            "2      NaN    0.30        2        2    0.6    0.6\n",
            "3      NaN    0.15        1        3   0.15   0.15\n",
            "4      NaN    0.30        5        2    1.5    1.5\n"
          ]
        },
        {
          "output_type": "stream",
          "name": "stderr",
          "text": [
            "/usr/local/lib/python3.7/dist-packages/ipykernel_launcher.py:9: SettingWithCopyWarning: \n",
            "A value is trying to be set on a copy of a slice from a DataFrame\n",
            "\n",
            "See the caveats in the documentation: https://pandas.pydata.org/pandas-docs/stable/user_guide/indexing.html#returning-a-view-versus-a-copy\n",
            "  if __name__ == '__main__':\n",
            "/usr/local/lib/python3.7/dist-packages/ipykernel_launcher.py:10: SettingWithCopyWarning: \n",
            "A value is trying to be set on a copy of a slice from a DataFrame\n",
            "\n",
            "See the caveats in the documentation: https://pandas.pydata.org/pandas-docs/stable/user_guide/indexing.html#returning-a-view-versus-a-copy\n",
            "  # Remove the CWD from sys.path while we load stuff.\n"
          ]
        }
      ]
    },
    {
      "cell_type": "code",
      "source": [
        "#step 5: add partial scores to get the total scores \n",
        "# which solutions is the winner? the one with the highest score\n",
        "\n",
        "totalScoreA = 0\n",
        "totalScoreB = 0\n",
        "for index, row in AA.iterrows():\n",
        "  totalScoreA += row['scoreA']\n",
        "  totalScoreB += row['scoreB']\n",
        "\n",
        "print('the total score for A is (:.2f) and for B is (:.2f)'.format(totalScoreA, totalScoreB))"
      ],
      "metadata": {
        "colab": {
          "base_uri": "https://localhost:8080/"
        },
        "id": "ebofHADpDQPP",
        "outputId": "3df025d5-71bc-4927-ba0a-e43886251932"
      },
      "execution_count": null,
      "outputs": [
        {
          "output_type": "stream",
          "name": "stdout",
          "text": [
            "the total score for A is (:.2f) and for B is (:.2f)\n"
          ]
        }
      ]
    }
  ]
}