{
  "nbformat": 4,
  "nbformat_minor": 0,
  "metadata": {
    "colab": {
      "name": "KevinJ_Lab2.ipynb",
      "provenance": [],
      "mount_file_id": "1KgIWgMlRPD5yzpADk7me6zxF6swpZheL",
      "authorship_tag": "ABX9TyOud3IVu4In1yCSELeFrKcc",
      "include_colab_link": true
    },
    "kernelspec": {
      "name": "python3",
      "display_name": "Python 3"
    },
    "language_info": {
      "name": "python"
    }
  },
  "cells": [
    {
      "cell_type": "markdown",
      "metadata": {
        "id": "view-in-github",
        "colab_type": "text"
      },
      "source": [
        "<a href=\"https://colab.research.google.com/github/kjjuarez7/Kevin-J/blob/main/KevinJ_Lab2.ipynb\" target=\"_parent\"><img src=\"https://colab.research.google.com/assets/colab-badge.svg\" alt=\"Open In Colab\"/></a>"
      ]
    },
    {
      "cell_type": "code",
      "source": [
        "import pandas as pd\n",
        "import math\n",
        "\n",
        "dataT=pd.read_csv('/content/drive/MyDrive/Colab Notebooks/262-CBA.csv')\n",
        "print(dataT)\n"
      ],
      "metadata": {
        "id": "gLXiXet29DdP",
        "colab": {
          "base_uri": "https://localhost:8080/"
        },
        "outputId": "39c0dbd9-e41f-48e1-a5ef-e61e801e49a5"
      },
      "execution_count": 1,
      "outputs": [
        {
          "output_type": "stream",
          "name": "stdout",
          "text": [
            "   years  developmentCost  operationalCost  valueOfBenefits\n",
            "0      0             -100                0                0\n",
            "1      1              -30              -10               25\n",
            "2      2                0              -15               55\n",
            "3      3                0              -15               85\n"
          ]
        }
      ]
    },
    {
      "cell_type": "code",
      "source": [
        ""
      ],
      "metadata": {
        "id": "B13MkOGvIgVW"
      },
      "execution_count": 3,
      "outputs": []
    },
    {
      "cell_type": "code",
      "source": [
        "# set your own discount rate\n",
        "discountRate = 0.05\n",
        "\n",
        "#calc the compound interest over the years\n",
        "#initiate a list of 4 elements - one for each year, 0 to 3 \n",
        "discountFactor= [0,0,0,0]\n",
        "for year in dataT['years']:\n",
        "  discountFactor[year]=1/math.pow((1+discountRate),year)\n",
        "\n",
        "dataT['discountFactor']=[round(num, 2) for num in discountFactor]\n",
        "print(dataT)"
      ],
      "metadata": {
        "colab": {
          "base_uri": "https://localhost:8080/"
        },
        "id": "7W2PONGM-6Mo",
        "outputId": "6dadadfe-c49e-4f18-ff5c-e722af950058"
      },
      "execution_count": 4,
      "outputs": [
        {
          "output_type": "stream",
          "name": "stdout",
          "text": [
            "   years  developmentCost  operationalCost  valueOfBenefits  discountFactor\n",
            "0      0             -100                0                0            1.00\n",
            "1      1              -30              -10               25            0.95\n",
            "2      2                0              -15               55            0.91\n",
            "3      3                0              -15               85            0.86\n"
          ]
        }
      ]
    },
    {
      "cell_type": "code",
      "source": [
        "NetBC=[0,0,0,0]\n",
        "for year in dataT['years']:\n",
        "  NetBC[year]=dataT['developmentCost'][year]+dataT['valueOfBenefits'][year]\n",
        "\n",
        "dataT['NetBC']=NetBC\n",
        "print(dataT)"
      ],
      "metadata": {
        "colab": {
          "base_uri": "https://localhost:8080/"
        },
        "id": "4VD2_zCRDig2",
        "outputId": "ca7bdf00-3581-4124-808f-d750e85818ff"
      },
      "execution_count": 5,
      "outputs": [
        {
          "output_type": "stream",
          "name": "stdout",
          "text": [
            "   years  developmentCost  ...  discountFactor  NetBC\n",
            "0      0             -100  ...            1.00   -100\n",
            "1      1              -30  ...            0.95     -5\n",
            "2      2                0  ...            0.91     55\n",
            "3      3                0  ...            0.86     85\n",
            "\n",
            "[4 rows x 6 columns]\n"
          ]
        }
      ]
    },
    {
      "cell_type": "code",
      "execution_count": 6,
      "metadata": {
        "id": "PUC2sOlF8yTQ",
        "colab": {
          "base_uri": "https://localhost:8080/"
        },
        "outputId": "4047d015-2474-4c33-946f-8d8647a0ffe5"
      },
      "outputs": [
        {
          "output_type": "stream",
          "name": "stdout",
          "text": [
            "   years  developmentCost  operationalCost  ...  discountFactor  NetBC     NPV\n",
            "0      0             -100                0  ...            1.00   -100 -100.00\n",
            "1      1              -30              -10  ...            0.95     -5   -4.75\n",
            "2      2                0              -15  ...            0.91     55   50.05\n",
            "3      3                0              -15  ...            0.86     85   73.10\n",
            "\n",
            "[4 rows x 7 columns]\n"
          ]
        }
      ],
      "source": [
        "NPV=[0,0,0,0]\n",
        "\n",
        "for year in dataT['years']:\n",
        "  NPV[year]=dataT['NetBC'][year]*dataT['discountFactor'][year]\n",
        "\n",
        "dataT['NPV']=[round(num, 2)for num in NPV]\n",
        "print(dataT)"
      ]
    }
  ]
}